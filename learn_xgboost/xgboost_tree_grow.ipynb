{
 "cells": [
  {
   "cell_type": "markdown",
   "metadata": {},
   "source": [
    "看这篇文章之前需要先了解决策树，梯度提升（gradient boosting）<br />\n",
    "这篇文章会用最简单的例子详细说明xgboost里的树是如何生长的。废话不多说，开始吧。<br />\n",
    "选择波士顿房价数据集进行说明，为了简化说明，只选取其中两个特征（RM、AGE）<br />"
   ]
  },
  {
   "cell_type": "code",
   "execution_count": 20,
   "metadata": {},
   "outputs": [],
   "source": [
    "import sklearn.datasets\n",
    "import pandas as pd\n",
    "import numpy as np\n",
    "import xgboost as xgb\n",
    "\n",
    "boston_raw = sklearn.datasets.load_boston()\n",
    "boston = pd.DataFrame(boston_raw['data'], columns=boston_raw['feature_names'])\n",
    "boston = boston[['RM', 'AGE']]\n",
    "labels = boston_raw['target']\n",
    "boston_all = pd.concat([boston, pd.DataFrame(labels, columns=['label'])], axis=1)"
   ]
  },
  {
   "cell_type": "code",
   "execution_count": 3,
   "metadata": {},
   "outputs": [],
   "source": [
    "%matplotlib inline"
   ]
  },
  {
   "cell_type": "code",
   "execution_count": 5,
   "metadata": {},
   "outputs": [
    {
     "data": {
      "text/plain": [
       "<matplotlib.axes._subplots.AxesSubplot at 0x12b65f128>"
      ]
     },
     "execution_count": 5,
     "metadata": {},
     "output_type": "execute_result"
    },
    {
     "data": {
      "image/png": "[encoded data removed]",
      "text/plain": [
       "<Figure size 432x288 with 1 Axes>"
      ]
     },
     "metadata": {},
     "output_type": "display_data"
    }
   ],
   "source": [
    "boston_all.label.plot()"
   ]
  },
  {
   "cell_type": "markdown",
   "metadata": {},
   "source": [
    "xgboost首先会选取0.5作为基本分数，简单的说就是不管特征是什么，我们都预测房价的值为0.5。为什么是0.5。这个是xgboost默认的，你也可以使用其他数值，通过修改xgboost的base_score，只要生成的树足够多，效果是一样的。"
   ]
  },
  {
   "cell_type": "markdown",
   "metadata": {},
   "source": [
    "根据boosting的原理，我们在残差上（label-0.5）训练构建我们的第一颗树。"
   ]
  },
  {
   "cell_type": "markdown",
   "metadata": {},
   "source": [
    "要构建一颗树，主要解决两个问题"
   ]
  },
  {
   "cell_type": "markdown",
   "metadata": {},
   "source": [
    "##### 1.如何找到一个好的树结构\n",
    "##### 2.叶子节点如何赋值"
   ]
  },
  {
   "cell_type": "markdown",
   "metadata": {},
   "source": [
    "我们先解决第二个问题，假如我们已经知道树结构，叶子节点如何赋值？ 比如我们现在知道第一颗树是按下面这样构建的, 在特征rm=6.94处进行分裂，树的深度为1，那叶子节点我们如何赋值？"
   ]
  },
  {
   "cell_type": "markdown",
   "metadata": {},
   "source": [
    "![image.png](attachment:image.png)"
   ]
  },
  {
   "cell_type": "markdown",
   "metadata": {},
   "source": [
    "根据作者推导的公式我们可以计算"
   ]
  },
  {
   "cell_type": "markdown",
   "metadata": {},
   "source": [
    "![image.png](attachment:image.png)"
   ]
  },
  {
   "cell_type": "markdown",
   "metadata": {},
   "source": [
    "如果你选用平方误差，不引入正则项，那计算会比较简单。\n",
    "既然我们知道了数据集会在rm=6.94处分裂成两组，那自然取每组数据的平均值作为叶子节点的值。"
   ]
  },
  {
   "cell_type": "code",
   "execution_count": 6,
   "metadata": {},
   "outputs": [
    {
     "data": {
      "text/plain": [
       "19.433720930232557"
      ]
     },
     "execution_count": 6,
     "metadata": {},
     "output_type": "execute_result"
    }
   ],
   "source": [
    "(boston_all[boston_all['RM'] < 6.94].label - 0.5).mean()"
   ]
  },
  {
   "cell_type": "code",
   "execution_count": 7,
   "metadata": {},
   "outputs": [
    {
     "data": {
      "text/plain": [
       "36.738157894736844"
      ]
     },
     "execution_count": 7,
     "metadata": {},
     "output_type": "execute_result"
    }
   ],
   "source": [
    "(boston_all[boston_all['RM'] >= 6.94].label - 0.5).mean()"
   ]
  },
  {
   "cell_type": "markdown",
   "metadata": {},
   "source": [
    "现在我们解决第二个问题，如何找到一个好的树结构。这又可以分为两个问题\n",
    "##### 1.如何找到分裂点？\n",
    "##### 2.何时停止生长"
   ]
  },
  {
   "cell_type": "markdown",
   "metadata": {},
   "source": [
    "xgboost里面寻找分裂点有两种方法，一种是exact greedy algorithm, 一种是Approximate Algorithm。这里我们只讲exact greedy algorithm。具体就是先对特征排序，然后遍历所有的特征寻找分裂点。对于每个分裂，我们如何计算目标函数的变化(gain)，然后取获得最大gain的点作为分裂点。计算方法如下（看起来好像很复杂，但我们使用平方误差，实际计算并不复杂）："
   ]
  },
  {
   "cell_type": "markdown",
   "metadata": {},
   "source": [
    "![image.png](attachment:image.png)"
   ]
  },
  {
   "cell_type": "markdown",
   "metadata": {},
   "source": [
    "我们从树的深度为0开始，每次找到最佳分裂点进行分裂，根据这种方法将树生成到最大深度。这就是贪心算法，即只考虑当前的最佳收益。构建完最大深度后，我们从叶子节点往上剪枝。如果一个节点我们计算的gain是负数，我们就对其进行剪枝。"
   ]
  },
  {
   "cell_type": "markdown",
   "metadata": {},
   "source": [
    "现在构建树的两个问题已经解决，现在我们来开始构建。"
   ]
  },
  {
   "cell_type": "code",
   "execution_count": 9,
   "metadata": {},
   "outputs": [],
   "source": [
    "class BestSplitNode:\n",
    "    \"\"\"用于记录最佳分裂点\"\"\"\n",
    "    max_gain = -float(\"inf\")\n",
    "    split_val = None\n",
    "    best_split_fe = None\n",
    "    best_split_left = None\n",
    "    best_split_right = None\n",
    "    best_left_gain = None\n",
    "    best_right_gain = None\n",
    "    best_root_gain = None\n",
    "    left_val = None\n",
    "    right_val = None\n",
    "\n",
    "    def __str__(self):\n",
    "        return \"split feature: {}\\n\"\\\n",
    "               \"split value: {}\\n\" \\\n",
    "               \"Gain: {}\\n\" \\\n",
    "               \"left cover: {}\\n\" \\\n",
    "               \"right cover: {}\\n\" \\\n",
    "               \"left value: {}\\n\" \\\n",
    "               \"right value: {}\\n\".format(self.best_split_fe, \n",
    "                                          self.split_val, \n",
    "                                          self.max_gain, \n",
    "                                          len(self.best_split_left), \n",
    "                                          len(self.best_split_right),\n",
    "                                          self.left_val,\n",
    "                                          self.right_val)\n",
    "\n",
    "\n",
    "def calculate_gain(df, pre_val, reg_lambda):\n",
    "    \"\"\"\n",
    "    :param df: 数据集（dataframe)\n",
    "    :param pre_val: 前面树的预测之和\n",
    "    :param reg_lambda: 正则参数\n",
    "    :return: \n",
    "    \"\"\"\n",
    "    return np.sum(df.label - pre_val) ** 2 / (len(df) + reg_lambda)\n",
    "\n",
    "\n",
    "def calculate_leave_val(df, pre_val, reg_lambda):\n",
    "    return np.sum(df.label - pre_val) / (len(df) + reg_lambda)\n",
    "\n",
    "    \n",
    "def find_split(root_df, pre_val=0.5, reg_lambda=0, gamma=0):\n",
    "    best_split_node = BestSplitNode()\n",
    "    root_gain = calculate_gain(root_df, pre_val, reg_lambda)\n",
    "    for feature in ['RM', 'AGE']:\n",
    "        for val in root_df[feature]:\n",
    "            left = root_df[root_df[feature] < val]\n",
    "            right = root_df[root_df[feature] >= val]\n",
    "            if left.empty or right.empty:\n",
    "                continue\n",
    "            left_gain = calculate_gain(left, pre_val, reg_lambda)\n",
    "            right_gain = calculate_gain(right, pre_val, reg_lambda)\n",
    "            gain = left_gain + right_gain - root_gain - gamma\n",
    "            if gain > best_split_node.max_gain:\n",
    "                best_split_node.max_gain = gain\n",
    "                best_split_node.split_val = val\n",
    "                best_split_node.best_split_left = left\n",
    "                best_split_node.best_split_right = right\n",
    "                best_split_node.best_split_fe = feature\n",
    "                best_split_node.best_left_gain = left_gain\n",
    "                best_split_node.best_right_gain = right_gain\n",
    "                best_split_node.best_root_gain = root_gain\n",
    "                \n",
    "                # 计算叶子节点值\n",
    "                best_split_node.left_val = calculate_leave_val(left, pre_val, reg_lambda)\n",
    "                best_split_node.right_val = calculate_leave_val(right, pre_val, reg_lambda)\n",
    "                \n",
    "    return best_split_node"
   ]
  },
  {
   "cell_type": "markdown",
   "metadata": {},
   "source": [
    "我们先设置树的深度为1，正则项λ=0"
   ]
  },
  {
   "cell_type": "code",
   "execution_count": 12,
   "metadata": {},
   "outputs": [
    {
     "name": "stdout",
     "output_type": "stream",
     "text": [
      "split feature: RM\n",
      "split value: 6.943\n",
      "Gain: 19339.555026402784\n",
      "left cover: 430\n",
      "right cover: 76\n",
      "left value: 19.433720930232557\n",
      "right value: 36.738157894736844\n",
      "\n"
     ]
    }
   ],
   "source": [
    "root_node = find_split(boston_all)\n",
    "print(root_node)"
   ]
  },
  {
   "cell_type": "markdown",
   "metadata": {},
   "source": [
    "计算得对不对呢？我们用xgboost来验证下"
   ]
  },
  {
   "cell_type": "code",
   "execution_count": 13,
   "metadata": {},
   "outputs": [
    {
     "data": {
      "text/html": [
       "<div>\n",
       "<style scoped>\n",
       "    .dataframe tbody tr th:only-of-type {\n",
       "        vertical-align: middle;\n",
       "    }\n",
       "\n",
       "    .dataframe tbody tr th {\n",
       "        vertical-align: top;\n",
       "    }\n",
       "\n",
       "    .dataframe thead th {\n",
       "        text-align: right;\n",
       "    }\n",
       "</style>\n",
       "<table border=\"1\" class=\"dataframe\">\n",
       "  <thead>\n",
       "    <tr style=\"text-align: right;\">\n",
       "      <th></th>\n",
       "      <th>Tree</th>\n",
       "      <th>Node</th>\n",
       "      <th>ID</th>\n",
       "      <th>Feature</th>\n",
       "      <th>Split</th>\n",
       "      <th>Yes</th>\n",
       "      <th>No</th>\n",
       "      <th>Missing</th>\n",
       "      <th>Gain</th>\n",
       "      <th>Cover</th>\n",
       "    </tr>\n",
       "  </thead>\n",
       "  <tbody>\n",
       "    <tr>\n",
       "      <th>0</th>\n",
       "      <td>0</td>\n",
       "      <td>0</td>\n",
       "      <td>0-0</td>\n",
       "      <td>RM</td>\n",
       "      <td>6.941</td>\n",
       "      <td>0-1</td>\n",
       "      <td>0-2</td>\n",
       "      <td>0-1</td>\n",
       "      <td>19339.546900</td>\n",
       "      <td>506.0</td>\n",
       "    </tr>\n",
       "    <tr>\n",
       "      <th>1</th>\n",
       "      <td>0</td>\n",
       "      <td>1</td>\n",
       "      <td>0-1</td>\n",
       "      <td>Leaf</td>\n",
       "      <td>NaN</td>\n",
       "      <td>NaN</td>\n",
       "      <td>NaN</td>\n",
       "      <td>NaN</td>\n",
       "      <td>19.433722</td>\n",
       "      <td>430.0</td>\n",
       "    </tr>\n",
       "    <tr>\n",
       "      <th>2</th>\n",
       "      <td>0</td>\n",
       "      <td>2</td>\n",
       "      <td>0-2</td>\n",
       "      <td>Leaf</td>\n",
       "      <td>NaN</td>\n",
       "      <td>NaN</td>\n",
       "      <td>NaN</td>\n",
       "      <td>NaN</td>\n",
       "      <td>36.738159</td>\n",
       "      <td>76.0</td>\n",
       "    </tr>\n",
       "  </tbody>\n",
       "</table>\n",
       "</div>"
      ],
      "text/plain": [
       "   Tree  Node   ID Feature  Split  Yes   No Missing          Gain  Cover\n",
       "0     0     0  0-0      RM  6.941  0-1  0-2     0-1  19339.546900  506.0\n",
       "1     0     1  0-1    Leaf    NaN  NaN  NaN     NaN     19.433722  430.0\n",
       "2     0     2  0-2    Leaf    NaN  NaN  NaN     NaN     36.738159   76.0"
      ]
     },
     "execution_count": 13,
     "metadata": {},
     "output_type": "execute_result"
    }
   ],
   "source": [
    "from xgboost import XGBRegressor\n",
    "clf = XGBRegressor(max_depth=1, n_estimators=1, reg_lambda=0, learning_rate=1)\n",
    "clf.fit(boston, labels)\n",
    "\n",
    "bst = clf.get_booster()\n",
    "bst.trees_to_dataframe()"
   ]
  },
  {
   "cell_type": "markdown",
   "metadata": {},
   "source": [
    "和我们上面计算的基本一样"
   ]
  },
  {
   "cell_type": "markdown",
   "metadata": {},
   "source": [
    "## 正则化参数λ"
   ]
  },
  {
   "cell_type": "markdown",
   "metadata": {},
   "source": [
    "从上面的式子可以看出，λ不仅会影响叶子节点的值，还会影响后续的剪枝。如果λ设置得比较大，有些节点的最佳分裂的gain会是负值，这些在剪枝时会被剪掉。"
   ]
  },
  {
   "cell_type": "markdown",
   "metadata": {},
   "source": [
    "比如，我们设置树最大深度为2，λ=3"
   ]
  },
  {
   "cell_type": "markdown",
   "metadata": {},
   "source": [
    "第一个分类点："
   ]
  },
  {
   "cell_type": "code",
   "execution_count": 14,
   "metadata": {},
   "outputs": [
    {
     "name": "stdout",
     "output_type": "stream",
     "text": [
      "split feature: RM\n",
      "split value: 6.842\n",
      "Gain: 15941.159142495599\n",
      "left cover: 419\n",
      "right cover: 87\n",
      "left value: 19.084597156398107\n",
      "right value: 34.387777777777785\n",
      "\n"
     ]
    }
   ],
   "source": [
    "root_node = find_split(boston_all, reg_lambda=3)\n",
    "print(root_node)"
   ]
  },
  {
   "cell_type": "markdown",
   "metadata": {},
   "source": [
    "在左节点继续分裂："
   ]
  },
  {
   "cell_type": "code",
   "execution_count": 15,
   "metadata": {},
   "outputs": [
    {
     "name": "stdout",
     "output_type": "stream",
     "text": [
      "split feature: AGE\n",
      "split value: 76.5\n",
      "Gain: 2253.6098906732514\n",
      "left cover: 190\n",
      "right cover: 229\n",
      "left value: 22.022797927461138\n",
      "right value: 16.39353448275862\n",
      "\n"
     ]
    }
   ],
   "source": [
    "left_node = find_split(root_node.best_split_left, reg_lambda=3)\n",
    "print(left_node)"
   ]
  },
  {
   "cell_type": "markdown",
   "metadata": {},
   "source": [
    "在右节点继续分裂："
   ]
  },
  {
   "cell_type": "code",
   "execution_count": 17,
   "metadata": {},
   "outputs": [
    {
     "name": "stdout",
     "output_type": "stream",
     "text": [
      "split feature: RM\n",
      "split value: 8.78\n",
      "Gain: -172.89232084895775\n",
      "left cover: 86\n",
      "right cover: 1\n",
      "left value: 34.533707865168545\n",
      "right value: 5.35\n",
      "\n"
     ]
    }
   ],
   "source": [
    "right_node = find_split(root_node.best_split_right, reg_lambda=3)\n",
    "print(right_node)"
   ]
  },
  {
   "cell_type": "markdown",
   "metadata": {},
   "source": [
    "这里最佳分裂点gain是负数，我们从最下面往上剪枝，这个节点就去掉（也就是不分裂）"
   ]
  },
  {
   "cell_type": "markdown",
   "metadata": {},
   "source": [
    "用xgboost验证下"
   ]
  },
  {
   "cell_type": "code",
   "execution_count": 18,
   "metadata": {},
   "outputs": [
    {
     "data": {
      "text/html": [
       "<div>\n",
       "<style scoped>\n",
       "    .dataframe tbody tr th:only-of-type {\n",
       "        vertical-align: middle;\n",
       "    }\n",
       "\n",
       "    .dataframe tbody tr th {\n",
       "        vertical-align: top;\n",
       "    }\n",
       "\n",
       "    .dataframe thead th {\n",
       "        text-align: right;\n",
       "    }\n",
       "</style>\n",
       "<table border=\"1\" class=\"dataframe\">\n",
       "  <thead>\n",
       "    <tr style=\"text-align: right;\">\n",
       "      <th></th>\n",
       "      <th>Tree</th>\n",
       "      <th>Node</th>\n",
       "      <th>ID</th>\n",
       "      <th>Feature</th>\n",
       "      <th>Split</th>\n",
       "      <th>Yes</th>\n",
       "      <th>No</th>\n",
       "      <th>Missing</th>\n",
       "      <th>Gain</th>\n",
       "      <th>Cover</th>\n",
       "    </tr>\n",
       "  </thead>\n",
       "  <tbody>\n",
       "    <tr>\n",
       "      <th>0</th>\n",
       "      <td>0</td>\n",
       "      <td>0</td>\n",
       "      <td>0-0</td>\n",
       "      <td>RM</td>\n",
       "      <td>6.8375</td>\n",
       "      <td>0-1</td>\n",
       "      <td>0-2</td>\n",
       "      <td>0-1</td>\n",
       "      <td>15941.171900</td>\n",
       "      <td>506.0</td>\n",
       "    </tr>\n",
       "    <tr>\n",
       "      <th>1</th>\n",
       "      <td>0</td>\n",
       "      <td>1</td>\n",
       "      <td>0-1</td>\n",
       "      <td>AGE</td>\n",
       "      <td>75.7500</td>\n",
       "      <td>0-3</td>\n",
       "      <td>0-4</td>\n",
       "      <td>0-3</td>\n",
       "      <td>2253.609380</td>\n",
       "      <td>419.0</td>\n",
       "    </tr>\n",
       "    <tr>\n",
       "      <th>2</th>\n",
       "      <td>0</td>\n",
       "      <td>2</td>\n",
       "      <td>0-2</td>\n",
       "      <td>Leaf</td>\n",
       "      <td>NaN</td>\n",
       "      <td>NaN</td>\n",
       "      <td>NaN</td>\n",
       "      <td>NaN</td>\n",
       "      <td>34.387779</td>\n",
       "      <td>87.0</td>\n",
       "    </tr>\n",
       "    <tr>\n",
       "      <th>3</th>\n",
       "      <td>0</td>\n",
       "      <td>3</td>\n",
       "      <td>0-3</td>\n",
       "      <td>Leaf</td>\n",
       "      <td>NaN</td>\n",
       "      <td>NaN</td>\n",
       "      <td>NaN</td>\n",
       "      <td>NaN</td>\n",
       "      <td>22.022799</td>\n",
       "      <td>190.0</td>\n",
       "    </tr>\n",
       "    <tr>\n",
       "      <th>4</th>\n",
       "      <td>0</td>\n",
       "      <td>4</td>\n",
       "      <td>0-4</td>\n",
       "      <td>Leaf</td>\n",
       "      <td>NaN</td>\n",
       "      <td>NaN</td>\n",
       "      <td>NaN</td>\n",
       "      <td>NaN</td>\n",
       "      <td>16.393534</td>\n",
       "      <td>229.0</td>\n",
       "    </tr>\n",
       "  </tbody>\n",
       "</table>\n",
       "</div>"
      ],
      "text/plain": [
       "   Tree  Node   ID Feature    Split  Yes   No Missing          Gain  Cover\n",
       "0     0     0  0-0      RM   6.8375  0-1  0-2     0-1  15941.171900  506.0\n",
       "1     0     1  0-1     AGE  75.7500  0-3  0-4     0-3   2253.609380  419.0\n",
       "2     0     2  0-2    Leaf      NaN  NaN  NaN     NaN     34.387779   87.0\n",
       "3     0     3  0-3    Leaf      NaN  NaN  NaN     NaN     22.022799  190.0\n",
       "4     0     4  0-4    Leaf      NaN  NaN  NaN     NaN     16.393534  229.0"
      ]
     },
     "execution_count": 18,
     "metadata": {},
     "output_type": "execute_result"
    }
   ],
   "source": [
    "clf = XGBRegressor(max_depth=2, n_estimators=1, reg_lambda=3, learning_rate=1)\n",
    "clf.fit(boston, labels)\n",
    "\n",
    "bst = clf.get_booster()\n",
    "bst.trees_to_dataframe()"
   ]
  },
  {
   "cell_type": "code",
   "execution_count": 21,
   "metadata": {},
   "outputs": [
    {
     "data": {
      "image/svg+xml": [
       "<?xml version=\"1.0\" encoding=\"UTF-8\" standalone=\"no\"?>\n",
       "<!DOCTYPE svg PUBLIC \"-//W3C//DTD SVG 1.1//EN\"\n",
       " \"http://www.w3.org/Graphics/SVG/1.1/DTD/svg11.dtd\">\n",
       "<!-- Generated by graphviz version 2.40.1 (20161225.0304)\n",
       " -->\n",
       "<!-- Title: %3 Pages: 1 -->\n",
       "<svg width=\"370pt\" height=\"216pt\"\n",
       " viewBox=\"0.00 0.00 369.71 216.00\" xmlns=\"http://www.w3.org/2000/svg\" xmlns:xlink=\"http://www.w3.org/1999/xlink\">\n",
       "<g id=\"graph0\" class=\"graph\" transform=\"scale(1 1) rotate(0) translate(4 212)\">\n",
       "<title>%3</title>\n",
       "<polygon fill=\"#ffffff\" stroke=\"transparent\" points=\"-4,4 -4,-212 365.7059,-212 365.7059,4 -4,4\"/>\n",
       "<!-- 0 -->\n",
       "<g id=\"node1\" class=\"node\">\n",
       "<title>0</title>\n",
       "<ellipse fill=\"none\" stroke=\"#000000\" cx=\"220.3529\" cy=\"-190\" rx=\"66.3815\" ry=\"18\"/>\n",
       "<text text-anchor=\"middle\" x=\"220.3529\" y=\"-185.8\" font-family=\"Times,serif\" font-size=\"14.00\" fill=\"#000000\">RM&lt;6.8375001</text>\n",
       "</g>\n",
       "<!-- 1 -->\n",
       "<g id=\"node2\" class=\"node\">\n",
       "<title>1</title>\n",
       "<ellipse fill=\"none\" stroke=\"#000000\" cx=\"149.3529\" cy=\"-104\" rx=\"53.3343\" ry=\"18\"/>\n",
       "<text text-anchor=\"middle\" x=\"149.3529\" y=\"-99.8\" font-family=\"Times,serif\" font-size=\"14.00\" fill=\"#000000\">AGE&lt;75.75</text>\n",
       "</g>\n",
       "<!-- 0&#45;&gt;1 -->\n",
       "<g id=\"edge1\" class=\"edge\">\n",
       "<title>0&#45;&gt;1</title>\n",
       "<path fill=\"none\" stroke=\"#0000ff\" d=\"M205.6417,-172.1807C195.3876,-159.7603 181.5606,-143.0121 170.177,-129.2235\"/>\n",
       "<polygon fill=\"#0000ff\" stroke=\"#0000ff\" points=\"172.868,-126.9854 163.8024,-121.5022 167.4699,-131.442 172.868,-126.9854\"/>\n",
       "<text text-anchor=\"middle\" x=\"223.9667\" y=\"-142.8\" font-family=\"Times,serif\" font-size=\"14.00\" fill=\"#000000\">yes, missing</text>\n",
       "</g>\n",
       "<!-- 2 -->\n",
       "<g id=\"node3\" class=\"node\">\n",
       "<title>2</title>\n",
       "<ellipse fill=\"none\" stroke=\"#000000\" cx=\"291.3529\" cy=\"-104\" rx=\"70.2062\" ry=\"18\"/>\n",
       "<text text-anchor=\"middle\" x=\"291.3529\" y=\"-99.8\" font-family=\"Times,serif\" font-size=\"14.00\" fill=\"#000000\">leaf=34.3877792</text>\n",
       "</g>\n",
       "<!-- 0&#45;&gt;2 -->\n",
       "<g id=\"edge2\" class=\"edge\">\n",
       "<title>0&#45;&gt;2</title>\n",
       "<path fill=\"none\" stroke=\"#ff0000\" d=\"M243.0219,-172.9693C249.689,-167.3522 256.7025,-160.7924 262.3529,-154 268.1649,-147.0135 273.494,-138.7127 277.9545,-130.902\"/>\n",
       "<polygon fill=\"#ff0000\" stroke=\"#ff0000\" points=\"281.0577,-132.5218 282.7687,-122.066 274.9109,-129.1727 281.0577,-132.5218\"/>\n",
       "<text text-anchor=\"middle\" x=\"279.3529\" y=\"-142.8\" font-family=\"Times,serif\" font-size=\"14.00\" fill=\"#000000\">no</text>\n",
       "</g>\n",
       "<!-- 3 -->\n",
       "<g id=\"node4\" class=\"node\">\n",
       "<title>3</title>\n",
       "<ellipse fill=\"none\" stroke=\"#000000\" cx=\"70.3529\" cy=\"-18\" rx=\"70.2062\" ry=\"18\"/>\n",
       "<text text-anchor=\"middle\" x=\"70.3529\" y=\"-13.8\" font-family=\"Times,serif\" font-size=\"14.00\" fill=\"#000000\">leaf=22.0227985</text>\n",
       "</g>\n",
       "<!-- 1&#45;&gt;3 -->\n",
       "<g id=\"edge3\" class=\"edge\">\n",
       "<title>1&#45;&gt;3</title>\n",
       "<path fill=\"none\" stroke=\"#0000ff\" d=\"M133.3661,-86.5966C121.8776,-74.0902 106.2169,-57.0417 93.3823,-43.0699\"/>\n",
       "<polygon fill=\"#0000ff\" stroke=\"#0000ff\" points=\"95.9297,-40.6694 86.5871,-35.6727 90.7746,-45.4049 95.9297,-40.6694\"/>\n",
       "<text text-anchor=\"middle\" x=\"149.9667\" y=\"-56.8\" font-family=\"Times,serif\" font-size=\"14.00\" fill=\"#000000\">yes, missing</text>\n",
       "</g>\n",
       "<!-- 4 -->\n",
       "<g id=\"node5\" class=\"node\">\n",
       "<title>4</title>\n",
       "<ellipse fill=\"none\" stroke=\"#000000\" cx=\"229.3529\" cy=\"-18\" rx=\"70.2062\" ry=\"18\"/>\n",
       "<text text-anchor=\"middle\" x=\"229.3529\" y=\"-13.8\" font-family=\"Times,serif\" font-size=\"14.00\" fill=\"#000000\">leaf=16.3935337</text>\n",
       "</g>\n",
       "<!-- 1&#45;&gt;4 -->\n",
       "<g id=\"edge4\" class=\"edge\">\n",
       "<title>1&#45;&gt;4</title>\n",
       "<path fill=\"none\" stroke=\"#ff0000\" d=\"M168.9009,-86.9323C175.2822,-81.107 182.2839,-74.4356 188.3529,-68 195.4411,-60.4838 202.7316,-51.9098 209.163,-44.0099\"/>\n",
       "<polygon fill=\"#ff0000\" stroke=\"#ff0000\" points=\"211.985,-46.0854 215.5097,-36.0941 206.5236,-41.7067 211.985,-46.0854\"/>\n",
       "<text text-anchor=\"middle\" x=\"207.3529\" y=\"-56.8\" font-family=\"Times,serif\" font-size=\"14.00\" fill=\"#000000\">no</text>\n",
       "</g>\n",
       "</g>\n",
       "</svg>\n"
      ],
      "text/plain": [
       "<graphviz.files.Source at 0x12e18e2b0>"
      ]
     },
     "execution_count": 21,
     "metadata": {},
     "output_type": "execute_result"
    }
   ],
   "source": [
    "xgb.to_graphviz(bst, num_trees=0)"
   ]
  },
  {
   "cell_type": "markdown",
   "metadata": {},
   "source": [
    "## 正则化参数γ（gamma)"
   ]
  },
  {
   "cell_type": "markdown",
   "metadata": {},
   "source": [
    "从gain的计算可以知道，如果γ取值比较大，原本是正的gain会变成负数，从而达到剪枝。"
   ]
  },
  {
   "cell_type": "markdown",
   "metadata": {},
   "source": [
    "比如上面这个例子，我们在AGE=75.75处分裂的gain是2253.60，如果我们的γ设置得比这个大（比如2500)，那这里的gain变为负值，会被剪枝"
   ]
  },
  {
   "cell_type": "code",
   "execution_count": 23,
   "metadata": {},
   "outputs": [
    {
     "name": "stdout",
     "output_type": "stream",
     "text": [
      "split feature: AGE\n",
      "split value: 76.5\n",
      "Gain: -246.39010932674864\n",
      "left cover: 190\n",
      "right cover: 229\n",
      "left value: 22.022797927461138\n",
      "right value: 16.39353448275862\n",
      "\n"
     ]
    }
   ],
   "source": [
    "root_node = find_split(boston_all, reg_lambda=3, gamma=2500)\n",
    "left_node = find_split(root_node.best_split_left, reg_lambda=3, gamma=2500)\n",
    "print(left_node)"
   ]
  },
  {
   "cell_type": "markdown",
   "metadata": {},
   "source": [
    "可以看到gain变成负值"
   ]
  },
  {
   "cell_type": "markdown",
   "metadata": {},
   "source": [
    "用xgboost验证下："
   ]
  },
  {
   "cell_type": "code",
   "execution_count": 24,
   "metadata": {},
   "outputs": [
    {
     "data": {
      "text/html": [
       "<div>\n",
       "<style scoped>\n",
       "    .dataframe tbody tr th:only-of-type {\n",
       "        vertical-align: middle;\n",
       "    }\n",
       "\n",
       "    .dataframe tbody tr th {\n",
       "        vertical-align: top;\n",
       "    }\n",
       "\n",
       "    .dataframe thead th {\n",
       "        text-align: right;\n",
       "    }\n",
       "</style>\n",
       "<table border=\"1\" class=\"dataframe\">\n",
       "  <thead>\n",
       "    <tr style=\"text-align: right;\">\n",
       "      <th></th>\n",
       "      <th>Tree</th>\n",
       "      <th>Node</th>\n",
       "      <th>ID</th>\n",
       "      <th>Feature</th>\n",
       "      <th>Split</th>\n",
       "      <th>Yes</th>\n",
       "      <th>No</th>\n",
       "      <th>Missing</th>\n",
       "      <th>Gain</th>\n",
       "      <th>Cover</th>\n",
       "    </tr>\n",
       "  </thead>\n",
       "  <tbody>\n",
       "    <tr>\n",
       "      <th>0</th>\n",
       "      <td>0</td>\n",
       "      <td>0</td>\n",
       "      <td>0-0</td>\n",
       "      <td>RM</td>\n",
       "      <td>6.8375</td>\n",
       "      <td>0-1</td>\n",
       "      <td>0-2</td>\n",
       "      <td>0-1</td>\n",
       "      <td>15941.171900</td>\n",
       "      <td>506.0</td>\n",
       "    </tr>\n",
       "    <tr>\n",
       "      <th>1</th>\n",
       "      <td>0</td>\n",
       "      <td>1</td>\n",
       "      <td>0-1</td>\n",
       "      <td>Leaf</td>\n",
       "      <td>NaN</td>\n",
       "      <td>NaN</td>\n",
       "      <td>NaN</td>\n",
       "      <td>NaN</td>\n",
       "      <td>19.084597</td>\n",
       "      <td>419.0</td>\n",
       "    </tr>\n",
       "    <tr>\n",
       "      <th>2</th>\n",
       "      <td>0</td>\n",
       "      <td>2</td>\n",
       "      <td>0-2</td>\n",
       "      <td>Leaf</td>\n",
       "      <td>NaN</td>\n",
       "      <td>NaN</td>\n",
       "      <td>NaN</td>\n",
       "      <td>NaN</td>\n",
       "      <td>34.387779</td>\n",
       "      <td>87.0</td>\n",
       "    </tr>\n",
       "  </tbody>\n",
       "</table>\n",
       "</div>"
      ],
      "text/plain": [
       "   Tree  Node   ID Feature   Split  Yes   No Missing          Gain  Cover\n",
       "0     0     0  0-0      RM  6.8375  0-1  0-2     0-1  15941.171900  506.0\n",
       "1     0     1  0-1    Leaf     NaN  NaN  NaN     NaN     19.084597  419.0\n",
       "2     0     2  0-2    Leaf     NaN  NaN  NaN     NaN     34.387779   87.0"
      ]
     },
     "execution_count": 24,
     "metadata": {},
     "output_type": "execute_result"
    }
   ],
   "source": [
    "clf = XGBRegressor(max_depth=2, n_estimators=1, reg_lambda=3, learning_rate=1, gamma=2500)\n",
    "clf.fit(boston, labels)\n",
    "\n",
    "bst = clf.get_booster()\n",
    "bst.trees_to_dataframe()"
   ]
  },
  {
   "cell_type": "code",
   "execution_count": 25,
   "metadata": {},
   "outputs": [
    {
     "data": {
      "image/svg+xml": [
       "<?xml version=\"1.0\" encoding=\"UTF-8\" standalone=\"no\"?>\n",
       "<!DOCTYPE svg PUBLIC \"-//W3C//DTD SVG 1.1//EN\"\n",
       " \"http://www.w3.org/Graphics/SVG/1.1/DTD/svg11.dtd\">\n",
       "<!-- Generated by graphviz version 2.40.1 (20161225.0304)\n",
       " -->\n",
       "<!-- Title: %3 Pages: 1 -->\n",
       "<svg width=\"308pt\" height=\"130pt\"\n",
       " viewBox=\"0.00 0.00 307.71 130.00\" xmlns=\"http://www.w3.org/2000/svg\" xmlns:xlink=\"http://www.w3.org/1999/xlink\">\n",
       "<g id=\"graph0\" class=\"graph\" transform=\"scale(1 1) rotate(0) translate(4 126)\">\n",
       "<title>%3</title>\n",
       "<polygon fill=\"#ffffff\" stroke=\"transparent\" points=\"-4,4 -4,-126 303.7059,-126 303.7059,4 -4,4\"/>\n",
       "<!-- 0 -->\n",
       "<g id=\"node1\" class=\"node\">\n",
       "<title>0</title>\n",
       "<ellipse fill=\"none\" stroke=\"#000000\" cx=\"149.3529\" cy=\"-104\" rx=\"66.3815\" ry=\"18\"/>\n",
       "<text text-anchor=\"middle\" x=\"149.3529\" y=\"-99.8\" font-family=\"Times,serif\" font-size=\"14.00\" fill=\"#000000\">RM&lt;6.8375001</text>\n",
       "</g>\n",
       "<!-- 1 -->\n",
       "<g id=\"node2\" class=\"node\">\n",
       "<title>1</title>\n",
       "<ellipse fill=\"none\" stroke=\"#000000\" cx=\"70.3529\" cy=\"-18\" rx=\"70.2062\" ry=\"18\"/>\n",
       "<text text-anchor=\"middle\" x=\"70.3529\" y=\"-13.8\" font-family=\"Times,serif\" font-size=\"14.00\" fill=\"#000000\">leaf=19.0845966</text>\n",
       "</g>\n",
       "<!-- 0&#45;&gt;1 -->\n",
       "<g id=\"edge1\" class=\"edge\">\n",
       "<title>0&#45;&gt;1</title>\n",
       "<path fill=\"none\" stroke=\"#0000ff\" d=\"M132.9841,-86.1807C121.6501,-73.8425 106.3932,-57.2337 93.7754,-43.4979\"/>\n",
       "<polygon fill=\"#0000ff\" stroke=\"#0000ff\" points=\"96.0434,-40.7931 86.7008,-35.7964 90.8883,-45.5286 96.0434,-40.7931\"/>\n",
       "<text text-anchor=\"middle\" x=\"149.9667\" y=\"-56.8\" font-family=\"Times,serif\" font-size=\"14.00\" fill=\"#000000\">yes, missing</text>\n",
       "</g>\n",
       "<!-- 2 -->\n",
       "<g id=\"node3\" class=\"node\">\n",
       "<title>2</title>\n",
       "<ellipse fill=\"none\" stroke=\"#000000\" cx=\"229.3529\" cy=\"-18\" rx=\"70.2062\" ry=\"18\"/>\n",
       "<text text-anchor=\"middle\" x=\"229.3529\" y=\"-13.8\" font-family=\"Times,serif\" font-size=\"14.00\" fill=\"#000000\">leaf=34.3877792</text>\n",
       "</g>\n",
       "<!-- 0&#45;&gt;2 -->\n",
       "<g id=\"edge2\" class=\"edge\">\n",
       "<title>0&#45;&gt;2</title>\n",
       "<path fill=\"none\" stroke=\"#ff0000\" d=\"M169.3005,-86.5671C175.5736,-80.8291 182.4103,-74.3015 188.3529,-68 195.4411,-60.4838 202.7316,-51.9098 209.163,-44.0099\"/>\n",
       "<polygon fill=\"#ff0000\" stroke=\"#ff0000\" points=\"211.985,-46.0854 215.5097,-36.0941 206.5236,-41.7067 211.985,-46.0854\"/>\n",
       "<text text-anchor=\"middle\" x=\"206.3529\" y=\"-56.8\" font-family=\"Times,serif\" font-size=\"14.00\" fill=\"#000000\">no</text>\n",
       "</g>\n",
       "</g>\n",
       "</svg>\n"
      ],
      "text/plain": [
       "<graphviz.files.Source at 0x12e1b3be0>"
      ]
     },
     "execution_count": 25,
     "metadata": {},
     "output_type": "execute_result"
    }
   ],
   "source": [
    "xgb.to_graphviz(bst, num_trees=0)"
   ]
  },
  {
   "cell_type": "markdown",
   "metadata": {},
   "source": [
    "到这里大家应该知道一颗树是怎么生长的，后续树的生成就是在当前的基础上，对残差进行构建新的树。"
   ]
  }
 ],
 "metadata": {
  "kernelspec": {
   "display_name": "Python 3",
   "language": "python",
   "name": "python3"
  },
  "language_info": {
   "codemirror_mode": {
    "name": "ipython",
    "version": 3
   },
   "file_extension": ".py",
   "mimetype": "text/x-python",
   "name": "python",
   "nbconvert_exporter": "python",
   "pygments_lexer": "ipython3",
   "version": "3.6.2"
  }
 },
 "nbformat": 4,
 "nbformat_minor": 2
}
